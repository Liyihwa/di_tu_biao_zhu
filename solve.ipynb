{
 "cells": [
  {
   "cell_type": "code",
   "execution_count": 92,
   "outputs": [],
   "source": [
    "import cv2 as cv\n",
    "import numpy as np\n",
    "import time\n",
    "\n",
    "pic_name=\".md-pictures/README/image-20230314094817514.png\"\n",
    "\n",
    "\n",
    "def show(img,img_name='image',filename=\"\",call_back=None):\n",
    "    cv.namedWindow(img_name)\n",
    "    if not call_back is None:\n",
    "        cv.setMouseCallback(img_name,call_back)\n",
    "    while True:\n",
    "        cv.imshow(img_name, img)\n",
    "        k = cv.waitKey(20) # 等待输入\n",
    "        if k & 0xFF == 27:  # 键盘输入esc退出\n",
    "            break\n",
    "        elif k == ord('s'):  # 键盘输入s保存\n",
    "            cv.imwrite(filename, img)\n",
    "            break\n",
    "    cv.destroyAllWindows()\n",
    "def keep(img,name):\n",
    "    cv.imwrite(name, img)\n",
    "\n",
    "def draw_point(img,pos,color=(0, 0, 255),size=2):\n",
    "    cv.circle(img, pos,size, color,-1)\n",
    "def sleep(t):\n",
    "    time.sleep(t)\n",
    "img=cv.imread(pic_name)\n",
    "# 大渡口,江北termios"
   ],
   "metadata": {
    "collapsed": false
   }
  },
  {
   "cell_type": "code",
   "execution_count": 57,
   "outputs": [
    {
     "name": "stdout",
     "output_type": "stream",
     "text": [
      "453 456\n",
      "[250 250 250]\n",
      "342 327\n",
      "[250 228 202]\n",
      "175 225\n",
      "[250 228 202]\n",
      "368 244\n",
      "[242 220 194]\n",
      "426 241\n",
      "[242 220 194]\n",
      "484 373\n",
      "[242 220 194]\n"
     ]
    }
   ],
   "source": [
    "# 点击图像,并通过鼠标确定像素点颜色\n",
    "# def check_by_mouse(pth):\n",
    "#     def _check(event,x,y,flags,param):\n",
    "#         if event == cv.EVENT_FLAG_LBUTTON:\n",
    "#             temp=cv.imread(pth)\n",
    "#             cv.namedWindow('image')\n",
    "#             cv.setMouseCallback('image',_check)\n",
    "#             print(x,y)\n",
    "#             print(temp[y,x])\n",
    "#             draw_point(temp,pos=(x,y))\n",
    "#             cv.imshow('image',temp)\n",
    "#             sleep(0.2)\n",
    "#     temp=cv.imread(pth)\n",
    "#     cv.namedWindow('image')\n",
    "#     cv.setMouseCallback('image',_check)\n",
    "#     cv.imshow('image',temp)\n",
    "#\n",
    "#     if cv.waitKey(0) & 0xFF == 27:\n",
    "#         cv.destroyAllWindows()\n",
    "#\n",
    "# check_by_mouse(pic_name)"
   ],
   "metadata": {
    "collapsed": false
   }
  },
  {
   "cell_type": "code",
   "execution_count": 74,
   "outputs": [],
   "source": [
    "# # 分割蓝色部分\n",
    "# def set_color(img,pos,_color):\n",
    "#     if type(_color)!=tuple:\n",
    "#         _color=(_color,_color,_color)\n",
    "#     for i in range(3):\n",
    "#         img.itemset((pos[0],pos[1],i),_color[i])\n",
    "# def split_blue(img):\n",
    "#     h,w,c=img.shape\n",
    "#     for i in range(0,h):\n",
    "#         for j in range(0,w):\n",
    "#             a=img.item(i,j,0)\n",
    "#             b=img.item(i,j,1)\n",
    "#             c=img.item(i,j,2)\n",
    "#             if a > b > c:\n",
    "#                 set_color(img,(i,j),0)\n",
    "#             else:\n",
    "#                 set_color(img,(i,j),255)\n",
    "#     return img\n",
    "#\n",
    "# down_flag=False\n",
    "# color=(0,0,0)\n",
    "#\n",
    "# def fill(event,x,y,flags,param):\n",
    "#     global down_flag,color\n",
    "#     if event==cv.EVENT_RBUTTONDOWN:\n",
    "#        if color==(0,0,0):\n",
    "#            color=(255,255,255)\n",
    "#        else:\n",
    "#            color=(0,0,0)\n",
    "#     elif (not down_flag) and event==cv.EVENT_LBUTTONDOWN:\n",
    "#         down_flag=True\n",
    "#     elif down_flag and event==cv.EVENT_LBUTTONUP:\n",
    "#         down_flag=False\n",
    "#     if down_flag:\n",
    "#         draw_point(img_split_fill,(x,y),color,10)\n",
    "#\n",
    "#\n",
    "# img_split_fill=split_blue(cv.imread(pic_name))\n",
    "# show(img_split_fill,call_back=fill) # img始终保留分割并涂色后的图片\n"
   ],
   "metadata": {
    "collapsed": false
   }
  },
  {
   "cell_type": "code",
   "execution_count": 91,
   "outputs": [],
   "source": [
    "# #图像角点检测算法\n",
    "# def goodFeaturesToTrack(img,MaxCorner,QualityLevel,MinDistance):\n",
    "#     gray=cv.cvtColor(img, cv.COLOR_BGR2GRAY)\n",
    "#     gray = np.float32(gray)\n",
    "#     res=cv.goodFeaturesToTrack(gray,MaxCorner,QualityLevel,MinDistance)\n",
    "#     res=np.int0(res)\n",
    "#     temp=img.copy()\n",
    "#     points=set()\n",
    "#     for i in res:\n",
    "#         x,y=i.ravel()\n",
    "#         draw_point(temp,(x,y),size=3)\n",
    "#         points.add((x,y))\n",
    "#     return temp,points\n",
    "#\n",
    "# MaxCorner = 50\n",
    "# QualityLevel = 0.1\n",
    "# MinDistance = 10\n",
    "# img_points_check,points=goodFeaturesToTrack(img_split_fill,MaxCorner,QualityLevel,MinDistance)\n",
    "#\n",
    "# show(img_points_check)\n"
   ],
   "metadata": {
    "collapsed": false
   }
  },
  {
   "cell_type": "code",
   "execution_count": 94,
   "outputs": [],
   "source": [
    "# 点编辑器\n",
    "## 写一个管理points的回调函数\n",
    "## 维护一个points的有序数组\n",
    "## remove时,每拖动一次鼠标,就检测是否触及到了红点并移除红点\n",
    "## add时,直接把红点添加进set即可\n",
    "## 每成功添加/删除一个红点,就要根据img和points集合重新绘图,并重新\n",
    "\n",
    "down_flag=False\n",
    "mode=0 # mode为0时代表删除点,mode为1时代表去除点\n",
    "distance=5 #画笔删除时的宽度\n",
    "points=[]\n",
    "def dis(pos1,pos2):\n",
    "    return ((pos1[0]-pos2[0])**2+(pos1[1]-pos2[1])**2)**0.5\n",
    "def re_draw(): #重新画图\n",
    "    img_to_show=img.copy()\n",
    "    for i in points:\n",
    "        draw_point(img_to_show,i,size=3)\n",
    "    cv.namedWindow('image')\n",
    "    cv.setMouseCallback('image',points_callback)\n",
    "    cv.imshow('image',img_to_show)\n",
    "\n",
    "def points_callback(event,x,y,flags,param):\n",
    "    global down_flag,mode,points\n",
    "    if event==cv.EVENT_RBUTTONDOWN: # 右键切换模式\n",
    "       mode=(mode+1)%2\n",
    "    elif (not down_flag) and event==cv.EVENT_LBUTTONDOWN:\n",
    "        down_flag=True\n",
    "    elif down_flag and event==cv.EVENT_LBUTTONUP:\n",
    "        down_flag=False\n",
    "\n",
    "    if down_flag and mode==0: # 删除模式\n",
    "        size=len(points)\n",
    "        points=[i for i in points if dis(i,(x,y))>=distance]\n",
    "        if size != len(points): # 删除成功,重新绘制图\n",
    "            re_draw()\n",
    "    if event==cv.EVENT_LBUTTONDOWN and mode==1: #增加模式\n",
    "        points.append((x,y))\n",
    "        re_draw()\n",
    "\n",
    "re_draw()\n",
    "if cv.waitKey(0) & 0xFF == 27:\n",
    "    cv.destroyAllWindows()"
   ],
   "metadata": {
    "collapsed": false
   }
  },
  {
   "cell_type": "code",
   "execution_count": 96,
   "outputs": [
    {
     "name": "stdout",
     "output_type": "stream",
     "text": [
      "5.247165532876129e-06 6.081339712931515e-06\n",
      "[(106.54924966028707, 29.56345399546485), (106.5492557416268, 29.563978712018137), (106.5490733014354, 29.564408979591835), (106.550247, 29.564833999999998), (106.55036862679425, 29.564776281179135), (106.55229033014355, 29.562782358276642), (106.5517551722488, 29.56256197732426), (106.551518, 29.56252), (106.55083080861245, 29.563181142857143), (106.55044768421052, 29.5629030430839), (106.55011929186603, 29.563202131519272), (106.54975441148325, 29.563265097505667)]\n"
     ]
    }
   ],
   "source": [
    "# 坐标计算\n",
    "### 因为程序只知道角点的相对坐标,不知道绝对坐标\n",
    "### 为了让程序正常输出绝对坐标,需要将图像内最低点的坐标告知程序\n",
    "### 在计算坐标前首先要校准比例,校准比例可以通过最低点a,最高点b的绝对以及相对坐标来推算\n",
    "### 比例 rate= (a.abs_y-b.abs_y)/(a.rel_y-b.rel_y)\n",
    "### 其中abs为绝对坐标是高德地图给的,rel为绝对坐标是程序 points集合给的\n",
    "### 为了方便使用,请不要调整地图比例,校准只需要第一次运行时才做\n",
    "rate_x=1\n",
    "rate_y=1\n",
    "def calibration(): # 校准\n",
    "    high=False\n",
    "    for i in points:\n",
    "        if not high or high[1]>=i[1]:\n",
    "            high=i\n",
    "    low=False\n",
    "    for i in points:\n",
    "        if not low or low[1]<=i[1]:\n",
    "            low=i\n",
    "    abs_high_x,abs_high_y,abs_low_x,abs_low_y=map(float,input(\"输入最高点,最低点的横,纵坐标,空格分割:\").split(\" \"))\n",
    "    global rate_y,rate_x\n",
    "    rate_y=(abs_high_y-abs_low_y)/(low[1]-high[1]) #high实际上是y最小的点\n",
    "    rate_x=(abs_high_x-abs_low_x)/(high[0]-low[0])\n",
    "    print(rate_y,rate_x)\n",
    "def coordinate_trans(rel_pos,rel_a,abs_a):\n",
    "    res=((rel_pos[0]-rel_a[0])*rate_x+abs_a[0],(rel_a[1]-rel_pos[1])*rate_y+abs_a[1])\n",
    "    return res\n",
    "calibration()\n",
    "# 106.550248 29.564839 106.551519 29.562525\n",
    "# 29.562495\n",
    "rel_low=False # 最低点的相对坐标\n",
    "for i in points:\n",
    "    if not rel_low or rel_low[1]<=i[1]:\n",
    "        rel_low=i\n",
    "abs_a_x,abs_a_y=(map(float,input(\"输入最低点横,纵坐标,逗号分割\").split(\",\")))\n",
    "abs_a=(abs_a_x,abs_a_y)\n",
    "abs_points=[coordinate_trans(i,rel_low,abs_a) for i in points ]\n",
    "print(abs_points)"
   ],
   "metadata": {
    "collapsed": false
   }
  },
  {
   "cell_type": "code",
   "execution_count": 67,
   "outputs": [
    {
     "name": "stdout",
     "output_type": "stream",
     "text": [
      "0.8444022770374696\n"
     ]
    }
   ],
   "source": [
    "print(5.235294117643378e-06/6.200000000013105e-06)"
   ],
   "metadata": {
    "collapsed": false
   }
  }
 ],
 "metadata": {
  "kernelspec": {
   "display_name": "Python 3",
   "language": "python",
   "name": "python3"
  },
  "language_info": {
   "codemirror_mode": {
    "name": "ipython",
    "version": 2
   },
   "file_extension": ".py",
   "mimetype": "text/x-python",
   "name": "python",
   "nbconvert_exporter": "python",
   "pygments_lexer": "ipython2",
   "version": "2.7.6"
  }
 },
 "nbformat": 4,
 "nbformat_minor": 0
}
